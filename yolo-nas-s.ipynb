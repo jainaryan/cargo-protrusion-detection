{
 "cells": [
  {
   "cell_type": "code",
   "execution_count": 1,
   "metadata": {
    "collapsed": true,
    "ExecuteTime": {
     "end_time": "2023-11-17T17:10:39.203899400Z",
     "start_time": "2023-11-17T17:10:39.047151600Z"
    }
   },
   "outputs": [
    {
     "name": "stdout",
     "output_type": "stream",
     "text": [
      "Fri Nov 17 22:40:39 2023       \n",
      "+---------------------------------------------------------------------------------------+\n",
      "| NVIDIA-SMI 546.17                 Driver Version: 546.17       CUDA Version: 12.3     |\n",
      "|-----------------------------------------+----------------------+----------------------+\n",
      "| GPU  Name                     TCC/WDDM  | Bus-Id        Disp.A | Volatile Uncorr. ECC |\n",
      "| Fan  Temp   Perf          Pwr:Usage/Cap |         Memory-Usage | GPU-Util  Compute M. |\n",
      "|                                         |                      |               MIG M. |\n",
      "|=========================================+======================+======================|\n",
      "|   0  NVIDIA GeForce GTX 1660 Ti   WDDM  | 00000000:01:00.0  On |                  N/A |\n",
      "| N/A   42C    P8               6W /  80W |    407MiB /  6144MiB |      4%      Default |\n",
      "|                                         |                      |                  N/A |\n",
      "+-----------------------------------------+----------------------+----------------------+\n",
      "                                                                                         \n",
      "+---------------------------------------------------------------------------------------+\n",
      "| Processes:                                                                            |\n",
      "|  GPU   GI   CI        PID   Type   Process name                            GPU Memory |\n",
      "|        ID   ID                                                             Usage      |\n",
      "|=======================================================================================|\n",
      "|    0   N/A  N/A      5988    C+G   C:\\Windows\\explorer.exe                   N/A      |\n",
      "|    0   N/A  N/A      7488    C+G   ...m\\radeonsoftware\\RadeonSoftware.exe    N/A      |\n",
      "|    0   N/A  N/A     10304    C+G   ...nt.CBS_cw5n1h2txyewy\\SearchHost.exe    N/A      |\n",
      "|    0   N/A  N/A     11512    C+G   ...App\\OmenCommandCenterBackground.exe    N/A      |\n",
      "|    0   N/A  N/A     15824    C+G   ...CBS_cw5n1h2txyewy\\TextInputHost.exe    N/A      |\n",
      "|    0   N/A  N/A     17308    C+G   ...tility\\HPSystemEventUtilityHost.exe    N/A      |\n",
      "|    0   N/A  N/A     17448    C+G   ...5n1h2txyewy\\ShellExperienceHost.exe    N/A      |\n",
      "|    0   N/A  N/A     19232    C+G   ...ience\\NVIDIA GeForce Experience.exe    N/A      |\n",
      "|    0   N/A  N/A     20032    C+G   ...t.LockApp_cw5n1h2txyewy\\LockApp.exe    N/A      |\n",
      "|    0   N/A  N/A     25796    C+G   ...__8wekyb3d8bbwe\\WindowsTerminal.exe    N/A      |\n",
      "|    0   N/A  N/A     26816    C+G   ...GeForce Experience\\NVIDIA Share.exe    N/A      |\n",
      "|    0   N/A  N/A     28056    C+G   ...erApp\\HP.Omen.OmenCommandCenter.exe    N/A      |\n",
      "|    0   N/A  N/A     28548    C+G   ...crosoft\\Edge\\Application\\msedge.exe    N/A      |\n",
      "|    0   N/A  N/A     29304    C+G   ...\\PyCharm 2023.1.3\\bin\\pycharm64.exe    N/A      |\n",
      "|    0   N/A  N/A     30036    C+G   ...on\\119.0.2151.58\\msedgewebview2.exe    N/A      |\n",
      "|    0   N/A  N/A     30212    C+G   ...oogle\\Chrome\\Application\\chrome.exe    N/A      |\n",
      "+---------------------------------------------------------------------------------------+\n"
     ]
    }
   ],
   "source": [
    "!nvidia-smi"
   ]
  },
  {
   "cell_type": "code",
   "execution_count": 2,
   "outputs": [],
   "source": [
    "import torch\n",
    "import cv2"
   ],
   "metadata": {
    "collapsed": false,
    "ExecuteTime": {
     "end_time": "2023-11-17T17:10:42.129135100Z",
     "start_time": "2023-11-17T17:10:39.206894900Z"
    }
   }
  },
  {
   "cell_type": "code",
   "execution_count": 3,
   "outputs": [],
   "source": [
    "\n",
    "DEVICE = 'cuda' if torch.cuda.is_available() else \"cpu\"\n",
    "MODEL_ARCH = 'yolo_nas_s'"
   ],
   "metadata": {
    "collapsed": false,
    "ExecuteTime": {
     "end_time": "2023-11-17T17:10:42.175340400Z",
     "start_time": "2023-11-17T17:10:42.132144Z"
    }
   }
  },
  {
   "cell_type": "code",
   "execution_count": 4,
   "outputs": [
    {
     "data": {
      "text/plain": "'cuda'"
     },
     "execution_count": 4,
     "metadata": {},
     "output_type": "execute_result"
    }
   ],
   "source": [
    "DEVICE"
   ],
   "metadata": {
    "collapsed": false,
    "ExecuteTime": {
     "end_time": "2023-11-17T17:10:42.190798300Z",
     "start_time": "2023-11-17T17:10:42.178340Z"
    }
   }
  },
  {
   "cell_type": "code",
   "execution_count": 5,
   "outputs": [],
   "source": [
    "from super_gradients.training import models\n",
    "from super_gradients.training import Trainer\n",
    "from super_gradients.training import dataloaders\n",
    "from super_gradients.training.dataloaders.dataloaders import (\n",
    "    coco_detection_yolo_format_train,\n",
    "    coco_detection_yolo_format_val\n",
    ")\n",
    "\n",
    "from super_gradients.training.losses import PPYoloELoss\n",
    "from super_gradients.training.metrics import (\n",
    "    DetectionMetrics_050_095,\n",
    "    DetectionMetrics_050\n",
    ")\n",
    "\n",
    "from super_gradients.training.models.detection_models.pp_yolo_e import PPYoloEPostPredictionCallback\n",
    "from tqdm.auto import tqdm\n",
    "\n",
    "import os\n",
    "import requests\n",
    "import zipfile\n",
    "import cv2\n",
    "import matplotlib.pyplot as plt\n",
    "import numpy as np\n",
    "import random\n",
    "import glob"
   ],
   "metadata": {
    "collapsed": false,
    "ExecuteTime": {
     "end_time": "2023-11-17T17:10:47.670037200Z",
     "start_time": "2023-11-17T17:10:42.194791500Z"
    }
   }
  },
  {
   "cell_type": "code",
   "execution_count": 5,
   "outputs": [],
   "source": [],
   "metadata": {
    "collapsed": false,
    "ExecuteTime": {
     "end_time": "2023-11-17T17:10:47.695152500Z",
     "start_time": "2023-11-17T17:10:47.671041800Z"
    }
   }
  },
  {
   "cell_type": "code",
   "execution_count": 15,
   "outputs": [],
   "source": [
    "ROOT_DIR = ''\n",
    "train_imgs_dir = 'data/annotated data/train-images'\n",
    "train_labels_dir = 'data/annotated data/train-annotations'\n",
    "val_imgs_dir = 'data/annotated data/val-images'\n",
    "val_labels_dir = 'data/annotated data/val-annotations'\n",
    "test_imgs_dir = 'data/annotated data/test-images'\n",
    "test_labels_dir = 'data/annotated data/test-annotations'\n",
    "classes = ['protrusion']\n",
    "\n",
    "dataset_params = {\n",
    "    'data_dir':ROOT_DIR,\n",
    "    'train_images_dir':train_imgs_dir,\n",
    "    'train_labels_dir':train_labels_dir,\n",
    "    'val_images_dir':val_imgs_dir,\n",
    "    'val_labels_dir':val_labels_dir,\n",
    "    'test_images_dir':test_imgs_dir,\n",
    "    'test_labels_dir':test_labels_dir,\n",
    "    'classes':classes\n",
    "}"
   ],
   "metadata": {
    "collapsed": false,
    "ExecuteTime": {
     "end_time": "2023-11-18T04:32:31.173012400Z",
     "start_time": "2023-11-18T04:32:31.148784100Z"
    }
   }
  },
  {
   "cell_type": "code",
   "execution_count": 7,
   "outputs": [],
   "source": [
    "\n",
    "# Global parameters.\n",
    "EPOCHS = 50\n",
    "BATCH_SIZE = 16\n",
    "WORKERS = 8"
   ],
   "metadata": {
    "collapsed": false,
    "ExecuteTime": {
     "end_time": "2023-11-17T17:10:47.732244700Z",
     "start_time": "2023-11-17T17:10:47.702150500Z"
    }
   }
  },
  {
   "cell_type": "code",
   "execution_count": 17,
   "outputs": [
    {
     "name": "stderr",
     "output_type": "stream",
     "text": [
      "Indexing dataset annotations: 100%|██████████| 79/79 [00:00<00:00, 2456.37it/s]\n",
      "Indexing dataset annotations: 100%|██████████| 5/5 [00:00<00:00, 625.18it/s]\n"
     ]
    }
   ],
   "source": [
    "train_data = coco_detection_yolo_format_train(\n",
    "    dataset_params={\n",
    "        'data_dir': dataset_params['data_dir'],\n",
    "        'images_dir': dataset_params['train_images_dir'],\n",
    "        'labels_dir': dataset_params['train_labels_dir'],\n",
    "        'classes': dataset_params['classes']\n",
    "    },\n",
    "    dataloader_params={\n",
    "        'batch_size':BATCH_SIZE,\n",
    "        'num_workers':WORKERS\n",
    "    }\n",
    ")\n",
    "\n",
    "val_data = coco_detection_yolo_format_val(\n",
    "    dataset_params={\n",
    "        'data_dir': dataset_params['data_dir'],\n",
    "        'images_dir': dataset_params['val_images_dir'],\n",
    "        'labels_dir': dataset_params['val_labels_dir'],\n",
    "        'classes': dataset_params['classes']\n",
    "    },\n",
    "    dataloader_params={\n",
    "        'batch_size':BATCH_SIZE,\n",
    "        'num_workers':WORKERS\n",
    "    }\n",
    ")\n",
    "\n",
    "test_data = coco_detection_yolo_format_val(\n",
    "    dataset_params={\n",
    "        'data_dir': dataset_params['data_dir'],\n",
    "        'images_dir': dataset_params['test_images_dir'],\n",
    "        'labels_dir': dataset_params['test_labels_dir'],\n",
    "        'classes': dataset_params['classes']\n",
    "    },\n",
    "    dataloader_params={\n",
    "        'batch_size':BATCH_SIZE,\n",
    "        'num_workers':WORKERS\n",
    "    }\n",
    ")"
   ],
   "metadata": {
    "collapsed": false,
    "ExecuteTime": {
     "end_time": "2023-11-18T04:36:18.485184200Z",
     "start_time": "2023-11-18T04:36:17.468021300Z"
    }
   }
  },
  {
   "cell_type": "code",
   "execution_count": 9,
   "outputs": [
    {
     "data": {
      "text/plain": "'\\ntry later\\ntrain_data.dataset.transforms\\n\\n'"
     },
     "execution_count": 9,
     "metadata": {},
     "output_type": "execute_result"
    }
   ],
   "source": [
    "'''\n",
    "try later\n",
    "train_data.dataset.transforms\n",
    "\n",
    "'''"
   ],
   "metadata": {
    "collapsed": false,
    "ExecuteTime": {
     "end_time": "2023-11-17T17:10:48.097522800Z",
     "start_time": "2023-11-17T17:10:48.086496Z"
    }
   }
  },
  {
   "cell_type": "code",
   "execution_count": 10,
   "outputs": [],
   "source": [
    "train_params = {\n",
    "    'silent_mode': False,\n",
    "    \"average_best_models\":True,\n",
    "    \"warmup_mode\": \"linear_epoch_step\",\n",
    "    \"warmup_initial_lr\": 1e-6,\n",
    "    \"lr_warmup_epochs\": 3,\n",
    "    \"initial_lr\": 5e-4,\n",
    "    \"lr_mode\": \"cosine\",\n",
    "    \"cosine_final_lr_ratio\": 0.1,\n",
    "    \"optimizer\": \"Adam\",\n",
    "    \"optimizer_params\": {\"weight_decay\": 0.0001},\n",
    "    \"zero_weight_decay_on_bias_and_bn\": True,\n",
    "    \"ema\": True,\n",
    "    \"ema_params\": {\"decay\": 0.9, \"decay_type\": \"threshold\"},\n",
    "    \"max_epochs\": EPOCHS,\n",
    "    \"mixed_precision\": True,\n",
    "    \"loss\": PPYoloELoss(\n",
    "        use_static_assigner=False,\n",
    "        num_classes=len(dataset_params['classes']),\n",
    "        reg_max=16\n",
    "    ),\n",
    "    \"valid_metrics_list\": [\n",
    "        DetectionMetrics_050(\n",
    "            score_thres=0.1,\n",
    "            top_k_predictions=300,\n",
    "            num_cls=len(dataset_params['classes']),\n",
    "            normalize_targets=True,\n",
    "            post_prediction_callback=PPYoloEPostPredictionCallback(\n",
    "                score_threshold=0.01,\n",
    "                nms_top_k=1000,\n",
    "                max_predictions=300,\n",
    "                nms_threshold=0.7\n",
    "            )\n",
    "        ),\n",
    "        DetectionMetrics_050_095(\n",
    "            score_thres=0.1,\n",
    "            top_k_predictions=300,\n",
    "            num_cls=len(dataset_params['classes']),\n",
    "            normalize_targets=True,\n",
    "            post_prediction_callback=PPYoloEPostPredictionCallback(\n",
    "                score_threshold=0.01,\n",
    "                nms_top_k=1000,\n",
    "                max_predictions=300,\n",
    "                nms_threshold=0.7\n",
    "            )\n",
    "        )\n",
    "    ],\n",
    "    \"metric_to_watch\": 'mAP@0.50:0.95'\n",
    "}"
   ],
   "metadata": {
    "collapsed": false,
    "ExecuteTime": {
     "end_time": "2023-11-17T17:10:48.158298500Z",
     "start_time": "2023-11-17T17:10:48.102521600Z"
    }
   }
  },
  {
   "cell_type": "code",
   "execution_count": 11,
   "outputs": [
    {
     "name": "stderr",
     "output_type": "stream",
     "text": [
      "D:\\cargo-protrusion-detection\\venv\\lib\\site-packages\\super_gradients\\common\\registry\\registry.py:72: DeprecationWarning: Object name `linear_epoch_step` is now deprecated. Please replace it with `LinearEpochLRWarmup`.\n",
      "  warnings.warn(f\"Object name `{name}` is now deprecated. Please replace it with `{deprecated_names[name]}`.\", DeprecationWarning)\n",
      "Train epoch 0: 100%|██████████| 4/4 [00:34<00:00,  8.68s/it, PPYoloELoss/loss=nan, PPYoloELoss/loss_cls=nan, PPYoloELoss/loss_dfl=nan, PPYoloELoss/loss_iou=nan, gpu_mem=5.83]\n",
      "Validating: 100%|██████████| 1/1 [00:11<00:00, 11.24s/it]\n",
      "Train epoch 1: 100%|██████████| 4/4 [00:29<00:00,  7.39s/it, PPYoloELoss/loss=nan, PPYoloELoss/loss_cls=nan, PPYoloELoss/loss_dfl=nan, PPYoloELoss/loss_iou=nan, gpu_mem=5.86]\n",
      "Validating epoch 1: 100%|██████████| 1/1 [00:11<00:00, 11.25s/it]\n",
      "Train epoch 2: 100%|██████████| 4/4 [00:28<00:00,  7.25s/it, PPYoloELoss/loss=nan, PPYoloELoss/loss_cls=nan, PPYoloELoss/loss_dfl=nan, PPYoloELoss/loss_iou=nan, gpu_mem=5.79]\n",
      "Validating epoch 2: 100%|██████████| 1/1 [00:11<00:00, 11.88s/it]\n",
      "Train epoch 3: 100%|██████████| 4/4 [00:31<00:00,  7.81s/it, PPYoloELoss/loss=nan, PPYoloELoss/loss_cls=nan, PPYoloELoss/loss_dfl=nan, PPYoloELoss/loss_iou=nan, gpu_mem=5.83]\n",
      "Validating epoch 3: 100%|██████████| 1/1 [00:11<00:00, 11.23s/it]\n",
      "Train epoch 4: 100%|██████████| 4/4 [00:29<00:00,  7.47s/it, PPYoloELoss/loss=nan, PPYoloELoss/loss_cls=nan, PPYoloELoss/loss_dfl=nan, PPYoloELoss/loss_iou=nan, gpu_mem=5.82]\n",
      "Validating epoch 4: 100%|██████████| 1/1 [00:11<00:00, 11.53s/it]\n",
      "Train epoch 5: 100%|██████████| 4/4 [00:29<00:00,  7.29s/it, PPYoloELoss/loss=nan, PPYoloELoss/loss_cls=nan, PPYoloELoss/loss_dfl=nan, PPYoloELoss/loss_iou=nan, gpu_mem=5.8]\n",
      "Validating epoch 5: 100%|██████████| 1/1 [00:11<00:00, 11.50s/it]\n",
      "Train epoch 6: 100%|██████████| 4/4 [00:29<00:00,  7.25s/it, PPYoloELoss/loss=nan, PPYoloELoss/loss_cls=nan, PPYoloELoss/loss_dfl=nan, PPYoloELoss/loss_iou=nan, gpu_mem=5.83]\n",
      "Validating epoch 6: 100%|██████████| 1/1 [00:11<00:00, 11.46s/it]\n",
      "Train epoch 7: 100%|██████████| 4/4 [00:29<00:00,  7.37s/it, PPYoloELoss/loss=nan, PPYoloELoss/loss_cls=nan, PPYoloELoss/loss_dfl=nan, PPYoloELoss/loss_iou=nan, gpu_mem=5.95]\n",
      "Validating epoch 7: 100%|██████████| 1/1 [00:11<00:00, 11.23s/it]\n",
      "Train epoch 8: 100%|██████████| 4/4 [00:31<00:00,  7.78s/it, PPYoloELoss/loss=nan, PPYoloELoss/loss_cls=nan, PPYoloELoss/loss_dfl=nan, PPYoloELoss/loss_iou=nan, gpu_mem=5.82]\n",
      "Validating epoch 8: 100%|██████████| 1/1 [00:11<00:00, 11.29s/it]\n",
      "Train epoch 9: 100%|██████████| 4/4 [00:30<00:00,  7.51s/it, PPYoloELoss/loss=nan, PPYoloELoss/loss_cls=nan, PPYoloELoss/loss_dfl=nan, PPYoloELoss/loss_iou=nan, gpu_mem=5.79]\n",
      "Validating epoch 9: 100%|██████████| 1/1 [00:11<00:00, 11.60s/it]\n",
      "Train epoch 10: 100%|██████████| 4/4 [00:30<00:00,  7.65s/it, PPYoloELoss/loss=nan, PPYoloELoss/loss_cls=nan, PPYoloELoss/loss_dfl=nan, PPYoloELoss/loss_iou=nan, gpu_mem=5.83]\n",
      "Validating epoch 10: 100%|██████████| 1/1 [00:11<00:00, 11.20s/it]\n",
      "Train epoch 11: 100%|██████████| 4/4 [00:29<00:00,  7.49s/it, PPYoloELoss/loss=nan, PPYoloELoss/loss_cls=nan, PPYoloELoss/loss_dfl=nan, PPYoloELoss/loss_iou=nan, gpu_mem=5.77]\n",
      "Validating epoch 11: 100%|██████████| 1/1 [00:11<00:00, 11.81s/it]\n",
      "Train epoch 12: 100%|██████████| 4/4 [00:32<00:00,  8.17s/it, PPYoloELoss/loss=nan, PPYoloELoss/loss_cls=nan, PPYoloELoss/loss_dfl=nan, PPYoloELoss/loss_iou=nan, gpu_mem=5.82]\n",
      "Validating epoch 12: 100%|██████████| 1/1 [00:13<00:00, 13.99s/it]\n",
      "Train epoch 13: 100%|██████████| 4/4 [00:31<00:00,  7.81s/it, PPYoloELoss/loss=nan, PPYoloELoss/loss_cls=nan, PPYoloELoss/loss_dfl=nan, PPYoloELoss/loss_iou=nan, gpu_mem=5.79]\n",
      "Validating epoch 13: 100%|██████████| 1/1 [00:11<00:00, 11.80s/it]\n",
      "Train epoch 14: 100%|██████████| 4/4 [00:30<00:00,  7.60s/it, PPYoloELoss/loss=nan, PPYoloELoss/loss_cls=nan, PPYoloELoss/loss_dfl=nan, PPYoloELoss/loss_iou=nan, gpu_mem=5.77]\n",
      "Validating epoch 14: 100%|██████████| 1/1 [00:11<00:00, 11.61s/it]\n",
      "Train epoch 15: 100%|██████████| 4/4 [00:29<00:00,  7.48s/it, PPYoloELoss/loss=nan, PPYoloELoss/loss_cls=nan, PPYoloELoss/loss_dfl=nan, PPYoloELoss/loss_iou=nan, gpu_mem=5.82]\n",
      "Validating epoch 15: 100%|██████████| 1/1 [00:11<00:00, 11.57s/it]\n",
      "Train epoch 16: 100%|██████████| 4/4 [00:31<00:00,  7.96s/it, PPYoloELoss/loss=nan, PPYoloELoss/loss_cls=nan, PPYoloELoss/loss_dfl=nan, PPYoloELoss/loss_iou=nan, gpu_mem=5.8]\n",
      "Validating epoch 16: 100%|██████████| 1/1 [00:13<00:00, 13.61s/it]\n",
      "Train epoch 17: 100%|██████████| 4/4 [00:32<00:00,  8.04s/it, PPYoloELoss/loss=nan, PPYoloELoss/loss_cls=nan, PPYoloELoss/loss_dfl=nan, PPYoloELoss/loss_iou=nan, gpu_mem=5.82]\n",
      "Validating epoch 17: 100%|██████████| 1/1 [00:11<00:00, 11.75s/it]\n",
      "Train epoch 18: 100%|██████████| 4/4 [00:32<00:00,  8.18s/it, PPYoloELoss/loss=nan, PPYoloELoss/loss_cls=nan, PPYoloELoss/loss_dfl=nan, PPYoloELoss/loss_iou=nan, gpu_mem=5.79]\n",
      "Validating epoch 18: 100%|██████████| 1/1 [00:12<00:00, 12.76s/it]\n",
      "Train epoch 19: 100%|██████████| 4/4 [00:31<00:00,  7.87s/it, PPYoloELoss/loss=nan, PPYoloELoss/loss_cls=nan, PPYoloELoss/loss_dfl=nan, PPYoloELoss/loss_iou=nan, gpu_mem=5.82]\n",
      "Validating epoch 19: 100%|██████████| 1/1 [00:13<00:00, 13.14s/it]\n",
      "Train epoch 20: 100%|██████████| 4/4 [00:29<00:00,  7.28s/it, PPYoloELoss/loss=nan, PPYoloELoss/loss_cls=nan, PPYoloELoss/loss_dfl=nan, PPYoloELoss/loss_iou=nan, gpu_mem=5.8]\n",
      "Validating epoch 20: 100%|██████████| 1/1 [00:12<00:00, 12.39s/it]\n",
      "Train epoch 21: 100%|██████████| 4/4 [00:28<00:00,  7.00s/it, PPYoloELoss/loss=nan, PPYoloELoss/loss_cls=nan, PPYoloELoss/loss_dfl=nan, PPYoloELoss/loss_iou=nan, gpu_mem=5.83]\n",
      "Validating epoch 21: 100%|██████████| 1/1 [00:11<00:00, 11.78s/it]\n",
      "Train epoch 22: 100%|██████████| 4/4 [00:28<00:00,  7.07s/it, PPYoloELoss/loss=nan, PPYoloELoss/loss_cls=nan, PPYoloELoss/loss_dfl=nan, PPYoloELoss/loss_iou=nan, gpu_mem=5.83]\n",
      "Validating epoch 22: 100%|██████████| 1/1 [00:11<00:00, 11.84s/it]\n",
      "Train epoch 23: 100%|██████████| 4/4 [00:28<00:00,  7.20s/it, PPYoloELoss/loss=nan, PPYoloELoss/loss_cls=nan, PPYoloELoss/loss_dfl=nan, PPYoloELoss/loss_iou=nan, gpu_mem=5.83]\n",
      "Validating epoch 23: 100%|██████████| 1/1 [00:11<00:00, 11.53s/it]\n",
      "Train epoch 24: 100%|██████████| 4/4 [00:30<00:00,  7.60s/it, PPYoloELoss/loss=nan, PPYoloELoss/loss_cls=nan, PPYoloELoss/loss_dfl=nan, PPYoloELoss/loss_iou=nan, gpu_mem=5.77]\n",
      "Validating epoch 24: 100%|██████████| 1/1 [00:11<00:00, 12.00s/it]\n",
      "Train epoch 25: 100%|██████████| 4/4 [00:31<00:00,  7.83s/it, PPYoloELoss/loss=nan, PPYoloELoss/loss_cls=nan, PPYoloELoss/loss_dfl=nan, PPYoloELoss/loss_iou=nan, gpu_mem=5.81]\n",
      "Validating epoch 25: 100%|██████████| 1/1 [00:11<00:00, 11.96s/it]\n",
      "Train epoch 26: 100%|██████████| 4/4 [00:28<00:00,  7.25s/it, PPYoloELoss/loss=nan, PPYoloELoss/loss_cls=nan, PPYoloELoss/loss_dfl=nan, PPYoloELoss/loss_iou=nan, gpu_mem=5.8]\n",
      "Validating epoch 26: 100%|██████████| 1/1 [00:11<00:00, 11.38s/it]\n",
      "Train epoch 27: 100%|██████████| 4/4 [00:28<00:00,  7.17s/it, PPYoloELoss/loss=nan, PPYoloELoss/loss_cls=nan, PPYoloELoss/loss_dfl=nan, PPYoloELoss/loss_iou=nan, gpu_mem=5.77]\n",
      "Validating epoch 27: 100%|██████████| 1/1 [00:11<00:00, 11.24s/it]\n",
      "Train epoch 28: 100%|██████████| 4/4 [00:29<00:00,  7.32s/it, PPYoloELoss/loss=nan, PPYoloELoss/loss_cls=nan, PPYoloELoss/loss_dfl=nan, PPYoloELoss/loss_iou=nan, gpu_mem=5.83]\n",
      "Validating epoch 28: 100%|██████████| 1/1 [00:11<00:00, 11.09s/it]\n",
      "Train epoch 29: 100%|██████████| 4/4 [00:28<00:00,  7.20s/it, PPYoloELoss/loss=nan, PPYoloELoss/loss_cls=nan, PPYoloELoss/loss_dfl=nan, PPYoloELoss/loss_iou=nan, gpu_mem=5.8]\n",
      "Validating epoch 29: 100%|██████████| 1/1 [00:11<00:00, 11.52s/it]\n",
      "Train epoch 30: 100%|██████████| 4/4 [00:28<00:00,  7.22s/it, PPYoloELoss/loss=nan, PPYoloELoss/loss_cls=nan, PPYoloELoss/loss_dfl=nan, PPYoloELoss/loss_iou=nan, gpu_mem=5.77]\n",
      "Validating epoch 30: 100%|██████████| 1/1 [00:11<00:00, 11.23s/it]\n",
      "Train epoch 31: 100%|██████████| 4/4 [00:29<00:00,  7.37s/it, PPYoloELoss/loss=nan, PPYoloELoss/loss_cls=nan, PPYoloELoss/loss_dfl=nan, PPYoloELoss/loss_iou=nan, gpu_mem=5.82]\n",
      "Validating epoch 31: 100%|██████████| 1/1 [00:12<00:00, 12.45s/it]\n",
      "Train epoch 32: 100%|██████████| 4/4 [00:29<00:00,  7.38s/it, PPYoloELoss/loss=nan, PPYoloELoss/loss_cls=nan, PPYoloELoss/loss_dfl=nan, PPYoloELoss/loss_iou=nan, gpu_mem=5.95]\n",
      "Validating epoch 32: 100%|██████████| 1/1 [00:11<00:00, 11.96s/it]\n",
      "Train epoch 33: 100%|██████████| 4/4 [00:29<00:00,  7.38s/it, PPYoloELoss/loss=nan, PPYoloELoss/loss_cls=nan, PPYoloELoss/loss_dfl=nan, PPYoloELoss/loss_iou=nan, gpu_mem=5.83]\n",
      "Validating epoch 33: 100%|██████████| 1/1 [00:12<00:00, 12.19s/it]\n",
      "Train epoch 34: 100%|██████████| 4/4 [00:30<00:00,  7.68s/it, PPYoloELoss/loss=nan, PPYoloELoss/loss_cls=nan, PPYoloELoss/loss_dfl=nan, PPYoloELoss/loss_iou=nan, gpu_mem=5.83]\n",
      "Validating epoch 34: 100%|██████████| 1/1 [00:14<00:00, 14.77s/it]\n",
      "Train epoch 35: 100%|██████████| 4/4 [00:33<00:00,  8.30s/it, PPYoloELoss/loss=nan, PPYoloELoss/loss_cls=nan, PPYoloELoss/loss_dfl=nan, PPYoloELoss/loss_iou=nan, gpu_mem=5.77]\n",
      "Validating epoch 35: 100%|██████████| 1/1 [00:12<00:00, 12.94s/it]\n",
      "Train epoch 36: 100%|██████████| 4/4 [00:32<00:00,  8.24s/it, PPYoloELoss/loss=nan, PPYoloELoss/loss_cls=nan, PPYoloELoss/loss_dfl=nan, PPYoloELoss/loss_iou=nan, gpu_mem=5.83]\n",
      "Validating epoch 36: 100%|██████████| 1/1 [00:12<00:00, 12.91s/it]\n",
      "Train epoch 37: 100%|██████████| 4/4 [00:30<00:00,  7.74s/it, PPYoloELoss/loss=nan, PPYoloELoss/loss_cls=nan, PPYoloELoss/loss_dfl=nan, PPYoloELoss/loss_iou=nan, gpu_mem=5.84]\n",
      "Validating epoch 37: 100%|██████████| 1/1 [00:11<00:00, 11.91s/it]\n",
      "Train epoch 38: 100%|██████████| 4/4 [00:31<00:00,  7.93s/it, PPYoloELoss/loss=nan, PPYoloELoss/loss_cls=nan, PPYoloELoss/loss_dfl=nan, PPYoloELoss/loss_iou=nan, gpu_mem=5.8]\n",
      "Validating epoch 38: 100%|██████████| 1/1 [00:11<00:00, 11.81s/it]\n",
      "Train epoch 39: 100%|██████████| 4/4 [00:31<00:00,  7.83s/it, PPYoloELoss/loss=nan, PPYoloELoss/loss_cls=nan, PPYoloELoss/loss_dfl=nan, PPYoloELoss/loss_iou=nan, gpu_mem=5.82]\n",
      "Validating epoch 39: 100%|██████████| 1/1 [00:12<00:00, 12.64s/it]\n",
      "Train epoch 40: 100%|██████████| 4/4 [00:30<00:00,  7.68s/it, PPYoloELoss/loss=nan, PPYoloELoss/loss_cls=nan, PPYoloELoss/loss_dfl=nan, PPYoloELoss/loss_iou=nan, gpu_mem=5.79]\n",
      "Validating epoch 40: 100%|██████████| 1/1 [00:11<00:00, 11.55s/it]\n",
      "Train epoch 41: 100%|██████████| 4/4 [00:30<00:00,  7.56s/it, PPYoloELoss/loss=nan, PPYoloELoss/loss_cls=nan, PPYoloELoss/loss_dfl=nan, PPYoloELoss/loss_iou=nan, gpu_mem=5.82]\n",
      "Validating epoch 41: 100%|██████████| 1/1 [00:11<00:00, 11.30s/it]\n",
      "Train epoch 42: 100%|██████████| 4/4 [00:29<00:00,  7.33s/it, PPYoloELoss/loss=nan, PPYoloELoss/loss_cls=nan, PPYoloELoss/loss_dfl=nan, PPYoloELoss/loss_iou=nan, gpu_mem=5.84]\n",
      "Validating epoch 42: 100%|██████████| 1/1 [00:11<00:00, 11.93s/it]\n",
      "Train epoch 43: 100%|██████████| 4/4 [00:29<00:00,  7.35s/it, PPYoloELoss/loss=nan, PPYoloELoss/loss_cls=nan, PPYoloELoss/loss_dfl=nan, PPYoloELoss/loss_iou=nan, gpu_mem=5.84]\n",
      "Validating epoch 43: 100%|██████████| 1/1 [00:12<00:00, 12.33s/it]\n",
      "Train epoch 44: 100%|██████████| 4/4 [00:28<00:00,  7.15s/it, PPYoloELoss/loss=nan, PPYoloELoss/loss_cls=nan, PPYoloELoss/loss_dfl=nan, PPYoloELoss/loss_iou=nan, gpu_mem=5.84]\n",
      "Validating epoch 44: 100%|██████████| 1/1 [00:12<00:00, 12.60s/it]\n",
      "Train epoch 45: 100%|██████████| 4/4 [00:28<00:00,  7.24s/it, PPYoloELoss/loss=nan, PPYoloELoss/loss_cls=nan, PPYoloELoss/loss_dfl=nan, PPYoloELoss/loss_iou=nan, gpu_mem=5.83]\n",
      "Validating epoch 45: 100%|██████████| 1/1 [00:11<00:00, 11.71s/it]\n",
      "Train epoch 46: 100%|██████████| 4/4 [00:30<00:00,  7.55s/it, PPYoloELoss/loss=nan, PPYoloELoss/loss_cls=nan, PPYoloELoss/loss_dfl=nan, PPYoloELoss/loss_iou=nan, gpu_mem=5.82]\n",
      "Validating epoch 46: 100%|██████████| 1/1 [00:12<00:00, 12.24s/it]\n",
      "Train epoch 47: 100%|██████████| 4/4 [00:28<00:00,  7.17s/it, PPYoloELoss/loss=nan, PPYoloELoss/loss_cls=nan, PPYoloELoss/loss_dfl=nan, PPYoloELoss/loss_iou=nan, gpu_mem=5.8]\n",
      "Validating epoch 47: 100%|██████████| 1/1 [00:12<00:00, 12.19s/it]\n",
      "Train epoch 48: 100%|██████████| 4/4 [00:31<00:00,  7.80s/it, PPYoloELoss/loss=nan, PPYoloELoss/loss_cls=nan, PPYoloELoss/loss_dfl=nan, PPYoloELoss/loss_iou=nan, gpu_mem=5.84]\n",
      "Validating epoch 48: 100%|██████████| 1/1 [00:11<00:00, 11.81s/it]\n",
      "Train epoch 49: 100%|██████████| 4/4 [00:32<00:00,  8.09s/it, PPYoloELoss/loss=nan, PPYoloELoss/loss_cls=nan, PPYoloELoss/loss_dfl=nan, PPYoloELoss/loss_iou=nan, gpu_mem=5.82]\n",
      "Validating epoch 49: 100%|██████████| 1/1 [00:11<00:00, 11.80s/it]\n",
      "Validating epoch 50: 100%|██████████| 1/1 [00:10<00:00, 10.58s/it]"
     ]
    }
   ],
   "source": [
    "models_to_train = [\n",
    "    'yolo_nas_s',\n",
    "#    'yolo_nas_m',\n",
    "#    'yolo_nas_l'\n",
    "]\n",
    "\n",
    "CHECKPOINT_DIR = 'checkpoints'\n",
    "\n",
    "for model_to_train in models_to_train:\n",
    "    trainer = Trainer(\n",
    "        experiment_name=model_to_train,\n",
    "        ckpt_root_dir=CHECKPOINT_DIR\n",
    "    )\n",
    "\n",
    "    model = models.get(\n",
    "        model_to_train,\n",
    "        num_classes=len(dataset_params['classes']),\n",
    "        pretrained_weights=\"coco\"\n",
    "    )\n",
    "\n",
    "    trainer.train(\n",
    "        model=model,\n",
    "        training_params=train_params,\n",
    "        train_loader=train_data,\n",
    "        valid_loader=val_data\n",
    "    )\n",
    "\n"
   ],
   "metadata": {
    "collapsed": false,
    "ExecuteTime": {
     "end_time": "2023-11-17T17:49:02.129910100Z",
     "start_time": "2023-11-17T17:10:48.114282400Z"
    }
   }
  },
  {
   "cell_type": "code",
   "execution_count": 18,
   "outputs": [],
   "source": [
    "best_model = models.get('yolo_nas_s',\n",
    "                        num_classes=len(dataset_params['classes']),\n",
    "                        checkpoint_path='./checkpoints/yolo_nas_s/RUN_20231117_224048_830684/ckpt_best.pth'\n",
    "                        )"
   ],
   "metadata": {
    "collapsed": false,
    "ExecuteTime": {
     "end_time": "2023-11-18T04:36:37.364674500Z",
     "start_time": "2023-11-18T04:36:35.302723700Z"
    }
   }
  },
  {
   "cell_type": "code",
   "execution_count": 19,
   "outputs": [
    {
     "name": "stderr",
     "output_type": "stream",
     "text": [
      "Testing: 100%|██████████| 1/1 [00:36<00:00, 36.24s/it]"
     ]
    },
    {
     "data": {
      "text/plain": "{'PPYoloELoss/loss_cls': nan,\n 'PPYoloELoss/loss_iou': nan,\n 'PPYoloELoss/loss_dfl': nan,\n 'PPYoloELoss/loss': nan,\n 'Precision@0.50': 0.0,\n 'Recall@0.50': 0.0,\n 'mAP@0.50': 0.0,\n 'F1@0.50': 0.0}"
     },
     "execution_count": 19,
     "metadata": {},
     "output_type": "execute_result"
    }
   ],
   "source": [
    "trainer.test(\n",
    "    model=best_model,\n",
    "    test_loader=test_data,\n",
    "    test_metrics_list=DetectionMetrics_050(\n",
    "        score_thres=0.1,\n",
    "        top_k_predictions=300,\n",
    "        num_cls=len(dataset_params['classes']),\n",
    "        normalize_targets=True,\n",
    "        post_prediction_callback=PPYoloEPostPredictionCallback(\n",
    "            score_threshold=0.01,\n",
    "            nms_top_k=1000,\n",
    "            max_predictions=300,\n",
    "            nms_threshold=0.7\n",
    "        )\n",
    "    )\n",
    ")"
   ],
   "metadata": {
    "collapsed": false,
    "ExecuteTime": {
     "end_time": "2023-11-18T04:37:20.112489900Z",
     "start_time": "2023-11-18T04:36:39.419884500Z"
    }
   }
  },
  {
   "cell_type": "code",
   "execution_count": null,
   "outputs": [],
   "source": [],
   "metadata": {
    "collapsed": false
   }
  }
 ],
 "metadata": {
  "kernelspec": {
   "display_name": "Python 3",
   "language": "python",
   "name": "python3"
  },
  "language_info": {
   "codemirror_mode": {
    "name": "ipython",
    "version": 2
   },
   "file_extension": ".py",
   "mimetype": "text/x-python",
   "name": "python",
   "nbconvert_exporter": "python",
   "pygments_lexer": "ipython2",
   "version": "2.7.6"
  }
 },
 "nbformat": 4,
 "nbformat_minor": 0
}
