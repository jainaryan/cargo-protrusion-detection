{
 "cells": [
  {
   "cell_type": "code",
   "execution_count": null,
   "metadata": {
    "collapsed": true
   },
   "outputs": [],
   "source": [
    "import torch\n",
    "import glob\n",
    "import cv2\n",
    "import matplotlib.pyplot as plt\n",
    "import random\n",
    "import os\n",
    "\n",
    "from super_gradients.training import models\n",
    "from tqdm.auto import tqdm\n",
    "from super_gradients.training.utils.distributed_training_utils import setup_device\n",
    "DEVICE = \"cpu\"\n",
    "setup_device(device=DEVICE)\n",
    "import shutil"
   ]
  },
  {
   "cell_type": "code",
   "execution_count": null,
   "outputs": [],
   "source": [
    "shutil.rmtree('./inference_results/images/')\n",
    "os.makedirs('./inference_results/images/', exist_ok=True)"
   ],
   "metadata": {
    "collapsed": false
   }
  },
  {
   "cell_type": "code",
   "execution_count": null,
   "outputs": [],
   "source": [
    "ROOT_DIR = ''\n",
    "train_imgs_dir = 'data/annotated data/model-data/train/images'\n",
    "train_labels_dir = 'data/annotated data/model-data/train/txt'\n",
    "val_imgs_dir = 'data/annotated data/model-data/val/images'\n",
    "val_labels_dir = 'data/annotated data/model-data/val/txt'\n",
    "test_imgs_dir = 'data/annotated data/model-data/test/images'\n",
    "test_labels_dir = 'data/annotated data/model-data/test/txt'\n",
    "classes = ['protrusion']\n",
    "\n",
    "dataset_params = {\n",
    "    'data_dir':ROOT_DIR,\n",
    "    'train_images_dir':train_imgs_dir,\n",
    "    'train_labels_dir':train_labels_dir,\n",
    "    'val_images_dir':val_imgs_dir,\n",
    "    'val_labels_dir':val_labels_dir,\n",
    "    'test_images_dir':test_imgs_dir,\n",
    "    'test_labels_dir':test_labels_dir,\n",
    "    'classes':classes\n",
    "}"
   ],
   "metadata": {
    "collapsed": false
   }
  },
  {
   "cell_type": "code",
   "execution_count": null,
   "outputs": [],
   "source": [
    "images_directory = val_imgs_dir\n",
    "all_images = os.listdir(images_directory)\n"
   ],
   "metadata": {
    "collapsed": false
   }
  },
  {
   "cell_type": "code",
   "execution_count": null,
   "outputs": [],
   "source": [
    "best_model = models.get('yolo_nas_s',\n",
    "                        num_classes=len(dataset_params['classes']),\n",
    "                        checkpoint_path='./checkpoints/yolo_nas_s/RUN_20231121_094755_271136/ckpt_best.pth'\n",
    "                        )"
   ],
   "metadata": {
    "collapsed": false
   }
  },
  {
   "cell_type": "code",
   "execution_count": null,
   "outputs": [],
   "source": [
    "for image in tqdm(all_images, total=len(all_images)):\n",
    "    image_path = os.path.join(images_directory, image)\n",
    "    out = best_model.predict(image_path)\n",
    "    out.save('./inference_results/images/')\n",
    "    os.rename(\n",
    "        './inference_results/images/pred_0.jpg',\n",
    "        os.path.join('./inference_results/images/', image)\n",
    "    )"
   ],
   "metadata": {
    "collapsed": false
   }
  },
  {
   "cell_type": "code",
   "execution_count": null,
   "outputs": [],
   "source": [
    "# Function to convert bounding boxes in YOLO format to xmin, ymin, xmax, ymax.\n",
    "def yolo2bbox(bboxes):\n",
    "    xmin, ymin = bboxes[0]-bboxes[2]/2, bboxes[1]-bboxes[3]/2\n",
    "    xmax, ymax = bboxes[0]+bboxes[2]/2, bboxes[1]+bboxes[3]/2\n",
    "    return xmin, ymin, xmax, ymax"
   ],
   "metadata": {
    "collapsed": false
   }
  },
  {
   "cell_type": "code",
   "execution_count": null,
   "outputs": [],
   "source": [
    "def plot_box(image, bboxes, labels):\n",
    "    # Need the image height and width to denormalize\n",
    "    # the bounding box coordinates\n",
    "    height, width, _ = image.shape\n",
    "    lw = max(round(sum(image.shape) / 2 * 0.003), 2)  # Line width.\n",
    "    tf = max(lw - 1, 1) # Font thickness.\n",
    "    for box_num, box in enumerate(bboxes):\n",
    "        x1, y1, x2, y2 = yolo2bbox(box)\n",
    "        # denormalize the coordinates\n",
    "        xmin = int(x1*width)\n",
    "        ymin = int(y1*height)\n",
    "        xmax = int(x2*width)\n",
    "        ymax = int(y2*height)\n",
    "\n",
    "        p1, p2 = (int(xmin), int(ymin)), (int(xmax), int(ymax))\n",
    "\n",
    "        class_name = classes[int(labels[box_num])]\n",
    "\n",
    "        color = (0, 0, 255)\n",
    "\n",
    "        cv2.rectangle(\n",
    "            image,\n",
    "            p1, p2,\n",
    "            color=color,\n",
    "            thickness=lw,\n",
    "            lineType=cv2.LINE_AA\n",
    "        )\n",
    "\n",
    "        # For filled rectangle.\n",
    "        w, h = cv2.getTextSize(\n",
    "            class_name,\n",
    "            0,\n",
    "            fontScale=lw / 3,\n",
    "            thickness=tf\n",
    "        )[0]\n",
    "\n",
    "        outside = p1[1] - h >= 3\n",
    "        new_p2 = p1[0] + w, p2[1] + h + 3 if outside else p2[1] - h - 3\n",
    "\n",
    "        cv2.rectangle(\n",
    "            image,\n",
    "            (p1[0], p2[1]), new_p2,\n",
    "            color=color,\n",
    "            thickness=-1,\n",
    "            lineType=cv2.LINE_AA\n",
    "        )\n",
    "        cv2.putText(\n",
    "            image,\n",
    "            class_name,\n",
    "            (p1[0], p2[1] + h + 2 if outside else p2[1]),\n",
    "            cv2.FONT_HERSHEY_SIMPLEX,\n",
    "            fontScale=lw/3,\n",
    "            color=(255, 255, 255),\n",
    "            thickness=tf,\n",
    "            lineType=cv2.LINE_AA\n",
    "        )\n",
    "    return image"
   ],
   "metadata": {
    "collapsed": false
   }
  },
  {
   "cell_type": "code",
   "execution_count": null,
   "outputs": [],
   "source": [
    "# Function to plot images with the bounding boxes.\n",
    "def plot(image_path, label_path, num_samples):\n",
    "    all_training_images = glob.glob(image_path+'/*')\n",
    "    all_training_labels = glob.glob(label_path+'/*')\n",
    "    all_training_images.sort()\n",
    "    all_training_labels.sort()\n",
    "\n",
    "    temp = list(zip(all_training_images, all_training_labels))\n",
    "    random.shuffle(temp)\n",
    "    all_training_images, all_training_labels = zip(*temp)\n",
    "    all_training_images, all_training_labels = list(all_training_images), list(all_training_labels)\n",
    "\n",
    "    num_images = len(all_training_images)\n",
    "\n",
    "    if num_samples == -1:\n",
    "        num_samples = num_images\n",
    "\n",
    "    for i in range(num_samples):\n",
    "        image_name = all_training_images[i].split(os.path.sep)[-1]\n",
    "        image = cv2.imread(all_training_images[i])\n",
    "        with open(all_training_labels[i], 'r') as f:\n",
    "            bboxes = []\n",
    "            labels = []\n",
    "            label_lines = f.readlines()\n",
    "            for label_line in label_lines:\n",
    "                label, x_c, y_c, w, h = label_line.split(' ')\n",
    "                x_c = float(x_c)\n",
    "                y_c = float(y_c)\n",
    "                w = float(w)\n",
    "                h = float(h)\n",
    "                bboxes.append([x_c, y_c, w, h])\n",
    "                labels.append(label)\n",
    "        result_image = plot_box(image, bboxes, labels)\n",
    "        plt.figure(figsize=(12, 9))\n",
    "        plt.imshow(image[:, :, ::-1])\n",
    "        plt.axis('off')\n",
    "        plt.show()"
   ],
   "metadata": {
    "collapsed": false
   }
  },
  {
   "cell_type": "code",
   "execution_count": null,
   "outputs": [],
   "source": [
    "# Visualize a few training images.\n",
    "plot(\n",
    "    image_path='./inference_results/images/',\n",
    "    label_path=val_labels_dir,\n",
    "    num_samples=20,\n",
    ")"
   ],
   "metadata": {
    "collapsed": false
   }
  }
 ],
 "metadata": {
  "kernelspec": {
   "display_name": "Python 3",
   "language": "python",
   "name": "python3"
  },
  "language_info": {
   "codemirror_mode": {
    "name": "ipython",
    "version": 2
   },
   "file_extension": ".py",
   "mimetype": "text/x-python",
   "name": "python",
   "nbconvert_exporter": "python",
   "pygments_lexer": "ipython2",
   "version": "2.7.6"
  }
 },
 "nbformat": 4,
 "nbformat_minor": 0
}
